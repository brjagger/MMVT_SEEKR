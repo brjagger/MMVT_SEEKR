{
 "cells": [
  {
   "cell_type": "code",
   "execution_count": null,
   "metadata": {},
   "outputs": [],
   "source": [
    "%matplotlib inline\n",
    "import matplotlib.pyplot as plt\n",
    "import sys\n",
    "from decimal import Decimal\n",
    "sys.path.append(\"/net/home/bjagger/mmvt_seekr\")\n",
    "import mmvt_seekr as seekr\n",
    "import numpy as np\n",
    "#import numpy as np"
   ]
  },
  {
   "cell_type": "code",
   "execution_count": null,
   "metadata": {},
   "outputs": [],
   "source": [
    "bound_states = [0]\n",
    "verbose=False\n",
    "conv_stride = 100000"
   ]
  },
  {
   "cell_type": "markdown",
   "metadata": {},
   "source": [
    "# Calculate kinetics with full data"
   ]
  },
  {
   "cell_type": "code",
   "execution_count": null,
   "metadata": {},
   "outputs": [],
   "source": [
    "model, max_steps = seekr.model.make_model(milestone_filename=\"milestones.xml\")\n",
    "p_equil, N, R, T, T_tot, Q, n_conv, r_conv, k_cell= seekr.analyze.analyze_kinetics(model, bound_states, verbose=True,)\n",
    "MFPT = T[0]\n",
    "k_off = 1/MFPT\n"
   ]
  },
  {
   "cell_type": "code",
   "execution_count": null,
   "metadata": {},
   "outputs": [],
   "source": [
    "k_on = seekr.analyze.calc_kon_from_bd(model, bound_states, Q)\n"
   ]
  },
  {
   "cell_type": "code",
   "execution_count": null,
   "metadata": {},
   "outputs": [],
   "source": [
    "print(\"MLE k_on\", '%.2E' % Decimal(k_on), \"M^-1 s^-1\")\n",
    "print(\"MLE k_off\", '%.2E' % Decimal(k_off), \"s^-1\")\n"
   ]
  },
  {
   "cell_type": "code",
   "execution_count": null,
   "metadata": {},
   "outputs": [],
   "source": [
    "num = 500\n",
    "skip = 100\n",
    "stride = 100\n"
   ]
  },
  {
   "cell_type": "code",
   "execution_count": null,
   "metadata": {},
   "outputs": [],
   "source": [
    "k_off_list, running_avg, running_std, k_on_list, k_on_avg_list, k_on_std_list = seekr.analyze.monte_carlo_milestoning_error(\n",
    "    model, bound_states, Q, N, R, p_equil ,T_tot, num=num, skip =skip,stride = stride, verbose=False)\n",
    "k_off_std = np.std(k_off_list)\n",
    "k_on_std = np.std(k_on_list)\n",
    "\n"
   ]
  },
  {
   "cell_type": "code",
   "execution_count": null,
   "metadata": {},
   "outputs": [],
   "source": [
    "print(\"k_off entries:\", len(k_off_list))\n",
    "print(\"avg k off\", '%.2E' % Decimal(np.average(k_off_list)),\" +- \", '%.2E' % Decimal(k_off_std), \" s^-1\") \n",
    "print(\"avg k on\", '%.2E' % Decimal(np.average(k_on_list)),\" +- \", '%.2E' % Decimal(k_on_std), \" M^-1 s^-1\")"
   ]
  },
  {
   "cell_type": "code",
   "execution_count": null,
   "metadata": {},
   "outputs": [],
   "source": [
    "seekr.plots.MCMC_conv(running_avg, running_std)\n",
    "seekr.plots.MCMC_conv(k_on_avg_list, k_on_std_list)\n"
   ]
  },
  {
   "cell_type": "markdown",
   "metadata": {},
   "source": [
    "# Milestone Convergence"
   ]
  },
  {
   "cell_type": "code",
   "execution_count": null,
   "metadata": {},
   "outputs": [],
   "source": [
    "conv_stride = 500000 #1 ns stride\n",
    "conv_skip = 5000000 #skip first 10 ns"
   ]
  },
  {
   "cell_type": "code",
   "execution_count": null,
   "metadata": {
    "scrolled": false
   },
   "outputs": [],
   "source": [
    "bound_dict = [0]\n",
    "N_conv, R_conv, k_cell_conv, p_equil_conv, k_conv, k_on_conv, conv_intervals = seekr.analyze.check_milestone_convergence(\n",
    "    model, bound_states, conv_stride, conv_skip, max_steps,)\n",
    "\n",
    "n_fig, ax = seekr.plots.plot_n_conv(N_conv, conv_intervals)\n",
    "r_fig = seekr.plots.plot_r_conv(R_conv, conv_intervals)\n",
    "p_fig, ax = seekr.plots.plot_p_equil(p_equil_conv, conv_intervals)\n",
    "k_fig, ax = seekr.plots.plot_k_off_conv(k_conv, conv_intervals)"
   ]
  },
  {
   "cell_type": "markdown",
   "metadata": {},
   "source": [
    "# Determine Minimum Simulation times from RMSD windows"
   ]
  },
  {
   "cell_type": "code",
   "execution_count": null,
   "metadata": {},
   "outputs": [],
   "source": [
    "print(len(conv_intervals))"
   ]
  },
  {
   "cell_type": "code",
   "execution_count": null,
   "metadata": {},
   "outputs": [],
   "source": [
    "window = 30 # 30 ns\n",
    "cutoff = 0.05 #5%\n",
    "conv_windows = 20 # 50 ns"
   ]
  },
  {
   "cell_type": "code",
   "execution_count": null,
   "metadata": {},
   "outputs": [],
   "source": [
    "\n",
    "seekr.plots.plot_window_rmsd(N_conv, conv_intervals, window)\n",
    "seekr.plots.plot_window_rmsd(R_conv, conv_intervals, window)\n",
    "min_anchor_times = seekr.analyze.calc_RMSD_conv(model, N_conv, R_conv, conv_intervals, window, cutoff, conv_windows)\n",
    "print(min_anchor_times)"
   ]
  },
  {
   "cell_type": "code",
   "execution_count": null,
   "metadata": {},
   "outputs": [],
   "source": [
    "p_equil, N, R, T, T_tot, Q, n_conv, r_conv, k_cell= seekr.analyze.analyze_kinetics(\n",
    "     model, bound_states, max_steps = min_anchor_times, verbose=True,)\n",
    "k_off_list, running_avg, running_std,k_on_list, k_on_avg_list, k_on_std_list = seekr.analyze.monte_carlo_milestoning_error(\n",
    "    model, bound_states, Q, N, R, p_equil,T_tot, num = 500, skip =100,stride = 100, verbose=False)\n",
    "#seekr.plots.MCMC_conv(running_avg, running_std)"
   ]
  },
  {
   "cell_type": "code",
   "execution_count": null,
   "metadata": {},
   "outputs": [],
   "source": [
    "MFPT = T[0]\n",
    "k_off = 1/MFPT\n",
    "print(\"MLE k_off\", '%.2E' % Decimal(k_off))\n",
    "k_off_std = np.std(k_off_list)\n",
    "k_on_std = np.std(k_on_list)\n",
    "print(\"k_off entries:\", len(k_off_list))\n",
    "print(\"avg k off\", '%.2E' % Decimal(np.average(k_off_list)),\" +- \", '%.2E' % Decimal(k_off_std), \" s^-1\") \n",
    "print(\"avg k on\", '%.2E' % Decimal(np.average(k_on_list)),\" +- \", '%.2E' % Decimal(k_on_std), \" M^-1 s^-1\")"
   ]
  },
  {
   "cell_type": "code",
   "execution_count": null,
   "metadata": {},
   "outputs": [],
   "source": [
    "window = 30 # 30 ns\n",
    "cutoff = 0.01 #1%\n",
    "conv_windows = 20 # 20 ns"
   ]
  },
  {
   "cell_type": "code",
   "execution_count": null,
   "metadata": {},
   "outputs": [],
   "source": [
    "seekr.plots.plot_window_rmsd(N_conv, conv_intervals, window)\n",
    "seekr.plots.plot_window_rmsd(R_conv, conv_intervals, window)\n",
    "min_anchor_times = seekr.analyze.calc_RMSD_conv(model, N_conv, R_conv, conv_intervals, window, cutoff, conv_windows)\n",
    "print(min_anchor_times)"
   ]
  },
  {
   "cell_type": "code",
   "execution_count": null,
   "metadata": {},
   "outputs": [],
   "source": [
    "num = 500\n",
    "skip = 100\n",
    "stride = 100"
   ]
  },
  {
   "cell_type": "code",
   "execution_count": null,
   "metadata": {},
   "outputs": [],
   "source": [
    "print()"
   ]
  },
  {
   "cell_type": "code",
   "execution_count": null,
   "metadata": {},
   "outputs": [],
   "source": [
    "p_equil, N, R, T, T_tot, Q, n_conv, r_conv, k_cell= seekr.analyze.analyze_kinetics(\n",
    "     model, bound_dict, max_steps = min_anchor_times, verbose=True,)\n",
    "k_off_list, running_avg, running_std,k_on_list, k_on_avg_list, k_on_std_list = seekr.analyze.monte_carlo_milestoning_error(\n",
    "    model, bound_dict, Q, N, R, p_equil,T_tot, num = num, skip =skip,stride = stride, verbose=False)\n",
    "#seekr.plots.MCMC_conv(running_avg, running_std)"
   ]
  },
  {
   "cell_type": "code",
   "execution_count": null,
   "metadata": {},
   "outputs": [],
   "source": [
    "MFPT = T[0]\n",
    "k_off = 1/MFPT\n",
    "print(\"MLE k_off\", '%.2E' % Decimal(k_off))\n",
    "k_off_std = np.std(k_off_list)\n",
    "k_on_std = np.std(k_on_list)\n",
    "print(\"k_off entries:\", len(k_off_list))\n",
    "print(\"avg k off\", '%.2E' % Decimal(np.average(k_off_list)),\" +- \", '%.2E' % Decimal(k_off_std), \" s^-1\") \n",
    "print(\"avg k on\", '%.2E' % Decimal(np.average(k_on_list)),\" +- \", '%.2E' % Decimal(k_on_std), \" M^-1 s^-1\")"
   ]
  }
 ],
 "metadata": {
  "kernelspec": {
   "display_name": "Python 3",
   "language": "python",
   "name": "python3"
  },
  "language_info": {
   "codemirror_mode": {
    "name": "ipython",
    "version": 3
   },
   "file_extension": ".py",
   "mimetype": "text/x-python",
   "name": "python",
   "nbconvert_exporter": "python",
   "pygments_lexer": "ipython3",
   "version": "3.8.2"
  }
 },
 "nbformat": 4,
 "nbformat_minor": 2
}
