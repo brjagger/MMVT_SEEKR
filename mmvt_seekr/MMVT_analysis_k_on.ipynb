{
 "cells": [
  {
   "cell_type": "code",
   "execution_count": 1,
   "metadata": {},
   "outputs": [],
   "source": [
    "%matplotlib inline\n",
    "import matplotlib.pyplot as plt\n",
    "import sys\n",
    "from decimal import Decimal\n",
    "sys.path.append(\"/home/lvotapka/Downloads/mmvt_seekr\")\n",
    "import mmvt_seekr as seekr\n",
    "import numpy as np\n",
    "#import numpy as np"
   ]
  },
  {
   "cell_type": "code",
   "execution_count": 2,
   "metadata": {},
   "outputs": [],
   "source": [
    "bound_states = [0]\n",
    "verbose=False\n",
    "conv_stride = 100000"
   ]
  },
  {
   "cell_type": "markdown",
   "metadata": {},
   "source": [
    "# Calculate kinetics with full data"
   ]
  },
  {
   "cell_type": "code",
   "execution_count": 3,
   "metadata": {},
   "outputs": [
    {
     "ename": "FileNotFoundError",
     "evalue": "[Errno 2] No such file or directory: 'milestones.xml'",
     "output_type": "error",
     "traceback": [
      "\u001b[0;31m---------------------------------------------------------------------------\u001b[0m",
      "\u001b[0;31mFileNotFoundError\u001b[0m                         Traceback (most recent call last)",
      "\u001b[0;32m<ipython-input-3-1f2abb515c20>\u001b[0m in \u001b[0;36m<module>\u001b[0;34m\u001b[0m\n\u001b[0;32m----> 1\u001b[0;31m \u001b[0mmodel\u001b[0m\u001b[0;34m,\u001b[0m \u001b[0mmax_steps\u001b[0m \u001b[0;34m=\u001b[0m \u001b[0mseekr\u001b[0m\u001b[0;34m.\u001b[0m\u001b[0mmodel\u001b[0m\u001b[0;34m.\u001b[0m\u001b[0mmake_model\u001b[0m\u001b[0;34m(\u001b[0m\u001b[0mmilestone_filename\u001b[0m\u001b[0;34m=\u001b[0m\u001b[0;34m\"milestones.xml\"\u001b[0m\u001b[0;34m)\u001b[0m\u001b[0;34m\u001b[0m\u001b[0;34m\u001b[0m\u001b[0m\n\u001b[0m\u001b[1;32m      2\u001b[0m \u001b[0mp_equil\u001b[0m\u001b[0;34m,\u001b[0m \u001b[0mN\u001b[0m\u001b[0;34m,\u001b[0m \u001b[0mR\u001b[0m\u001b[0;34m,\u001b[0m \u001b[0mT\u001b[0m\u001b[0;34m,\u001b[0m \u001b[0mT_tot\u001b[0m\u001b[0;34m,\u001b[0m \u001b[0mQ\u001b[0m\u001b[0;34m,\u001b[0m \u001b[0mn_conv\u001b[0m\u001b[0;34m,\u001b[0m \u001b[0mr_conv\u001b[0m\u001b[0;34m,\u001b[0m \u001b[0mk_cell\u001b[0m\u001b[0;34m=\u001b[0m \u001b[0mseekr\u001b[0m\u001b[0;34m.\u001b[0m\u001b[0manalyze\u001b[0m\u001b[0;34m.\u001b[0m\u001b[0manalyze_kinetics\u001b[0m\u001b[0;34m(\u001b[0m\u001b[0mmodel\u001b[0m\u001b[0;34m,\u001b[0m \u001b[0mbound_states\u001b[0m\u001b[0;34m,\u001b[0m \u001b[0mverbose\u001b[0m\u001b[0;34m=\u001b[0m\u001b[0;32mTrue\u001b[0m\u001b[0;34m,\u001b[0m\u001b[0;34m)\u001b[0m\u001b[0;34m\u001b[0m\u001b[0;34m\u001b[0m\u001b[0m\n\u001b[1;32m      3\u001b[0m \u001b[0mMFPT\u001b[0m \u001b[0;34m=\u001b[0m \u001b[0mT\u001b[0m\u001b[0;34m[\u001b[0m\u001b[0;36m0\u001b[0m\u001b[0;34m]\u001b[0m\u001b[0;34m\u001b[0m\u001b[0;34m\u001b[0m\u001b[0m\n\u001b[1;32m      4\u001b[0m \u001b[0mk_off\u001b[0m \u001b[0;34m=\u001b[0m \u001b[0;36m1\u001b[0m\u001b[0;34m/\u001b[0m\u001b[0mMFPT\u001b[0m\u001b[0;34m\u001b[0m\u001b[0;34m\u001b[0m\u001b[0m\n",
      "\u001b[0;32m~/miniconda3/lib/python3.8/site-packages/mmvt_seekr-0+untagged.65.g2199f85-py3.8.egg/mmvt_seekr/model.py\u001b[0m in \u001b[0;36mmake_model\u001b[0;34m(milestone_filename, verbose)\u001b[0m\n\u001b[1;32m    736\u001b[0m \u001b[0;34m\u001b[0m\u001b[0m\n\u001b[1;32m    737\u001b[0m    \u001b[0;31m#bound_dict = parse_bound_state_args(bound_states)\u001b[0m\u001b[0;34m\u001b[0m\u001b[0;34m\u001b[0m\u001b[0;34m\u001b[0m\u001b[0m\n\u001b[0;32m--> 738\u001b[0;31m    \u001b[0mmodel\u001b[0m \u001b[0;34m=\u001b[0m \u001b[0m_parse_milestoning_file\u001b[0m\u001b[0;34m(\u001b[0m\u001b[0mmilestone_filename\u001b[0m\u001b[0;34m)\u001b[0m\u001b[0;34m\u001b[0m\u001b[0;34m\u001b[0m\u001b[0m\n\u001b[0m\u001b[1;32m    739\u001b[0m    \u001b[0mmax_steps\u001b[0m \u001b[0;34m=\u001b[0m \u001b[0m_read_transition_statistics_from_files\u001b[0m\u001b[0;34m(\u001b[0m\u001b[0mmodel\u001b[0m\u001b[0;34m,\u001b[0m \u001b[0mverbose\u001b[0m\u001b[0;34m)\u001b[0m\u001b[0;34m\u001b[0m\u001b[0;34m\u001b[0m\u001b[0m\n\u001b[1;32m    740\u001b[0m \u001b[0;34m\u001b[0m\u001b[0m\n",
      "\u001b[0;32m~/miniconda3/lib/python3.8/site-packages/mmvt_seekr-0+untagged.65.g2199f85-py3.8.egg/mmvt_seekr/model.py\u001b[0m in \u001b[0;36m_parse_milestoning_file\u001b[0;34m(milestoning_filename)\u001b[0m\n\u001b[1;32m    496\u001b[0m \u001b[0;34m\u001b[0m\u001b[0m\n\u001b[1;32m    497\u001b[0m    \"\"\"\n\u001b[0;32m--> 498\u001b[0;31m    \u001b[0mtree\u001b[0m \u001b[0;34m=\u001b[0m \u001b[0mET\u001b[0m\u001b[0;34m.\u001b[0m\u001b[0mparse\u001b[0m\u001b[0;34m(\u001b[0m\u001b[0mmilestoning_filename\u001b[0m\u001b[0;34m)\u001b[0m \u001b[0;31m# now the entire XML file is in a dictionary\u001b[0m\u001b[0;34m\u001b[0m\u001b[0;34m\u001b[0m\u001b[0m\n\u001b[0m\u001b[1;32m    499\u001b[0m    \u001b[0mroot\u001b[0m \u001b[0;34m=\u001b[0m \u001b[0mtree\u001b[0m\u001b[0;34m.\u001b[0m\u001b[0mgetroot\u001b[0m\u001b[0;34m(\u001b[0m\u001b[0;34m)\u001b[0m \u001b[0;31m# object at bottom of the tree\u001b[0m\u001b[0;34m\u001b[0m\u001b[0;34m\u001b[0m\u001b[0m\n\u001b[1;32m    500\u001b[0m    \u001b[0mmodel\u001b[0m \u001b[0;34m=\u001b[0m \u001b[0mModel\u001b[0m\u001b[0;34m(\u001b[0m\u001b[0;34m)\u001b[0m \u001b[0;31m# create the model object\u001b[0m\u001b[0;34m\u001b[0m\u001b[0;34m\u001b[0m\u001b[0m\n",
      "\u001b[0;32m~/miniconda3/lib/python3.8/xml/etree/ElementTree.py\u001b[0m in \u001b[0;36mparse\u001b[0;34m(source, parser)\u001b[0m\n\u001b[1;32m   1200\u001b[0m     \"\"\"\n\u001b[1;32m   1201\u001b[0m     \u001b[0mtree\u001b[0m \u001b[0;34m=\u001b[0m \u001b[0mElementTree\u001b[0m\u001b[0;34m(\u001b[0m\u001b[0;34m)\u001b[0m\u001b[0;34m\u001b[0m\u001b[0;34m\u001b[0m\u001b[0m\n\u001b[0;32m-> 1202\u001b[0;31m     \u001b[0mtree\u001b[0m\u001b[0;34m.\u001b[0m\u001b[0mparse\u001b[0m\u001b[0;34m(\u001b[0m\u001b[0msource\u001b[0m\u001b[0;34m,\u001b[0m \u001b[0mparser\u001b[0m\u001b[0;34m)\u001b[0m\u001b[0;34m\u001b[0m\u001b[0;34m\u001b[0m\u001b[0m\n\u001b[0m\u001b[1;32m   1203\u001b[0m     \u001b[0;32mreturn\u001b[0m \u001b[0mtree\u001b[0m\u001b[0;34m\u001b[0m\u001b[0;34m\u001b[0m\u001b[0m\n\u001b[1;32m   1204\u001b[0m \u001b[0;34m\u001b[0m\u001b[0m\n",
      "\u001b[0;32m~/miniconda3/lib/python3.8/xml/etree/ElementTree.py\u001b[0m in \u001b[0;36mparse\u001b[0;34m(self, source, parser)\u001b[0m\n\u001b[1;32m    582\u001b[0m         \u001b[0mclose_source\u001b[0m \u001b[0;34m=\u001b[0m \u001b[0;32mFalse\u001b[0m\u001b[0;34m\u001b[0m\u001b[0;34m\u001b[0m\u001b[0m\n\u001b[1;32m    583\u001b[0m         \u001b[0;32mif\u001b[0m \u001b[0;32mnot\u001b[0m \u001b[0mhasattr\u001b[0m\u001b[0;34m(\u001b[0m\u001b[0msource\u001b[0m\u001b[0;34m,\u001b[0m \u001b[0;34m\"read\"\u001b[0m\u001b[0;34m)\u001b[0m\u001b[0;34m:\u001b[0m\u001b[0;34m\u001b[0m\u001b[0;34m\u001b[0m\u001b[0m\n\u001b[0;32m--> 584\u001b[0;31m             \u001b[0msource\u001b[0m \u001b[0;34m=\u001b[0m \u001b[0mopen\u001b[0m\u001b[0;34m(\u001b[0m\u001b[0msource\u001b[0m\u001b[0;34m,\u001b[0m \u001b[0;34m\"rb\"\u001b[0m\u001b[0;34m)\u001b[0m\u001b[0;34m\u001b[0m\u001b[0;34m\u001b[0m\u001b[0m\n\u001b[0m\u001b[1;32m    585\u001b[0m             \u001b[0mclose_source\u001b[0m \u001b[0;34m=\u001b[0m \u001b[0;32mTrue\u001b[0m\u001b[0;34m\u001b[0m\u001b[0;34m\u001b[0m\u001b[0m\n\u001b[1;32m    586\u001b[0m         \u001b[0;32mtry\u001b[0m\u001b[0;34m:\u001b[0m\u001b[0;34m\u001b[0m\u001b[0;34m\u001b[0m\u001b[0m\n",
      "\u001b[0;31mFileNotFoundError\u001b[0m: [Errno 2] No such file or directory: 'milestones.xml'"
     ]
    }
   ],
   "source": [
    "model, max_steps = seekr.model.make_model(milestone_filename=\"milestones.xml\")\n",
    "p_equil, N, R, T, T_tot, Q, n_conv, r_conv, k_cell= seekr.analyze.analyze_kinetics(model, bound_states, verbose=True,)\n",
    "MFPT = T[0]\n",
    "k_off = 1/MFPT\n"
   ]
  },
  {
   "cell_type": "code",
   "execution_count": null,
   "metadata": {},
   "outputs": [],
   "source": [
    "k_on = seekr.analyze.calc_kon_from_bd(model, bound_states, Q)\n"
   ]
  },
  {
   "cell_type": "code",
   "execution_count": null,
   "metadata": {},
   "outputs": [],
   "source": [
    "print(\"MLE k_on\", '%.2E' % Decimal(k_on), \"M^-1 s^-1\")\n",
    "print(\"MLE k_off\", '%.2E' % Decimal(k_off), \"s^-1\")\n"
   ]
  },
  {
   "cell_type": "code",
   "execution_count": null,
   "metadata": {},
   "outputs": [],
   "source": [
    "num = 500\n",
    "skip = 100\n",
    "stride = 100\n"
   ]
  },
  {
   "cell_type": "code",
   "execution_count": null,
   "metadata": {},
   "outputs": [],
   "source": [
    "k_off_list, running_avg, running_std, k_on_list, k_on_avg_list, k_on_std_list = seekr.analyze.monte_carlo_milestoning_error(\n",
    "    model, bound_states, Q, N, R, p_equil ,T_tot, num=num, skip =skip,stride = stride, verbose=False)\n",
    "k_off_std = np.std(k_off_list)\n",
    "k_on_std = np.std(k_on_list)\n",
    "\n"
   ]
  },
  {
   "cell_type": "code",
   "execution_count": null,
   "metadata": {},
   "outputs": [],
   "source": [
    "print(\"k_off entries:\", len(k_off_list))\n",
    "print(\"avg k off\", '%.2E' % Decimal(np.average(k_off_list)),\" +- \", '%.2E' % Decimal(k_off_std), \" s^-1\") \n",
    "print(\"avg k on\", '%.2E' % Decimal(np.average(k_on_list)),\" +- \", '%.2E' % Decimal(k_on_std), \" M^-1 s^-1\")"
   ]
  },
  {
   "cell_type": "code",
   "execution_count": null,
   "metadata": {},
   "outputs": [],
   "source": [
    "seekr.plots.MCMC_conv(running_avg, running_std)\n",
    "seekr.plots.MCMC_conv(k_on_avg_list, k_on_std_list)\n"
   ]
  },
  {
   "cell_type": "markdown",
   "metadata": {},
   "source": [
    "# Milestone Convergence"
   ]
  },
  {
   "cell_type": "code",
   "execution_count": null,
   "metadata": {},
   "outputs": [],
   "source": [
    "conv_stride = 500000 #1 ns stride\n",
    "conv_skip = 5000000 #skip first 10 ns"
   ]
  },
  {
   "cell_type": "code",
   "execution_count": null,
   "metadata": {
    "scrolled": false
   },
   "outputs": [],
   "source": [
    "bound_dict = [0]\n",
    "N_conv, R_conv, k_cell_conv, p_equil_conv, k_conv, k_on_conv, conv_intervals = seekr.analyze.check_milestone_convergence(\n",
    "    model, bound_states, conv_stride, conv_skip, max_steps,)\n",
    "\n",
    "n_fig, ax = seekr.plots.plot_n_conv(N_conv, conv_intervals)\n",
    "r_fig = seekr.plots.plot_r_conv(R_conv, conv_intervals)\n",
    "p_fig, ax = seekr.plots.plot_p_equil(p_equil_conv, conv_intervals)\n",
    "k_fig, ax = seekr.plots.plot_k_off_conv(k_conv, conv_intervals)"
   ]
  },
  {
   "cell_type": "markdown",
   "metadata": {},
   "source": [
    "# Determine Minimum Simulation times from RMSD windows"
   ]
  },
  {
   "cell_type": "code",
   "execution_count": null,
   "metadata": {},
   "outputs": [],
   "source": [
    "print(len(conv_intervals))"
   ]
  },
  {
   "cell_type": "code",
   "execution_count": null,
   "metadata": {},
   "outputs": [],
   "source": [
    "window = 30 # 30 ns\n",
    "cutoff = 0.05 #5%\n",
    "conv_windows = 20 # 50 ns"
   ]
  },
  {
   "cell_type": "code",
   "execution_count": null,
   "metadata": {},
   "outputs": [],
   "source": [
    "\n",
    "seekr.plots.plot_window_rmsd(N_conv, conv_intervals, window)\n",
    "seekr.plots.plot_window_rmsd(R_conv, conv_intervals, window)\n",
    "min_anchor_times = seekr.analyze.calc_RMSD_conv(model, N_conv, R_conv, conv_intervals, window, cutoff, conv_windows)\n",
    "print(min_anchor_times)"
   ]
  },
  {
   "cell_type": "code",
   "execution_count": null,
   "metadata": {},
   "outputs": [],
   "source": [
    "p_equil, N, R, T, T_tot, Q, n_conv, r_conv, k_cell= seekr.analyze.analyze_kinetics(\n",
    "     model, bound_states, max_steps = min_anchor_times, verbose=True,)\n",
    "k_off_list, running_avg, running_std,k_on_list, k_on_avg_list, k_on_std_list = seekr.analyze.monte_carlo_milestoning_error(\n",
    "    model, bound_states, Q, N, R, p_equil,T_tot, num = 500, skip =100,stride = 100, verbose=False)\n",
    "#seekr.plots.MCMC_conv(running_avg, running_std)"
   ]
  },
  {
   "cell_type": "code",
   "execution_count": null,
   "metadata": {},
   "outputs": [],
   "source": [
    "MFPT = T[0]\n",
    "k_off = 1/MFPT\n",
    "print(\"MLE k_off\", '%.2E' % Decimal(k_off))\n",
    "k_off_std = np.std(k_off_list)\n",
    "k_on_std = np.std(k_on_list)\n",
    "print(\"k_off entries:\", len(k_off_list))\n",
    "print(\"avg k off\", '%.2E' % Decimal(np.average(k_off_list)),\" +- \", '%.2E' % Decimal(k_off_std), \" s^-1\") \n",
    "print(\"avg k on\", '%.2E' % Decimal(np.average(k_on_list)),\" +- \", '%.2E' % Decimal(k_on_std), \" M^-1 s^-1\")"
   ]
  },
  {
   "cell_type": "code",
   "execution_count": null,
   "metadata": {},
   "outputs": [],
   "source": [
    "window = 30 # 30 ns\n",
    "cutoff = 0.01 #1%\n",
    "conv_windows = 20 # 20 ns"
   ]
  },
  {
   "cell_type": "code",
   "execution_count": null,
   "metadata": {},
   "outputs": [],
   "source": [
    "seekr.plots.plot_window_rmsd(N_conv, conv_intervals, window)\n",
    "seekr.plots.plot_window_rmsd(R_conv, conv_intervals, window)\n",
    "min_anchor_times = seekr.analyze.calc_RMSD_conv(model, N_conv, R_conv, conv_intervals, window, cutoff, conv_windows)\n",
    "print(min_anchor_times)"
   ]
  },
  {
   "cell_type": "code",
   "execution_count": null,
   "metadata": {},
   "outputs": [],
   "source": [
    "num = 500\n",
    "skip = 100\n",
    "stride = 100"
   ]
  },
  {
   "cell_type": "code",
   "execution_count": null,
   "metadata": {},
   "outputs": [],
   "source": [
    "print()"
   ]
  },
  {
   "cell_type": "code",
   "execution_count": null,
   "metadata": {},
   "outputs": [],
   "source": [
    "p_equil, N, R, T, T_tot, Q, n_conv, r_conv, k_cell= seekr.analyze.analyze_kinetics(\n",
    "     model, bound_dict, max_steps = min_anchor_times, verbose=True,)\n",
    "k_off_list, running_avg, running_std,k_on_list, k_on_avg_list, k_on_std_list = seekr.analyze.monte_carlo_milestoning_error(\n",
    "    model, bound_dict, Q, N, R, p_equil,T_tot, num = num, skip =skip,stride = stride, verbose=False)\n",
    "#seekr.plots.MCMC_conv(running_avg, running_std)"
   ]
  },
  {
   "cell_type": "code",
   "execution_count": null,
   "metadata": {},
   "outputs": [],
   "source": [
    "MFPT = T[0]\n",
    "k_off = 1/MFPT\n",
    "print(\"MLE k_off\", '%.2E' % Decimal(k_off))\n",
    "k_off_std = np.std(k_off_list)\n",
    "k_on_std = np.std(k_on_list)\n",
    "print(\"k_off entries:\", len(k_off_list))\n",
    "print(\"avg k off\", '%.2E' % Decimal(np.average(k_off_list)),\" +- \", '%.2E' % Decimal(k_off_std), \" s^-1\") \n",
    "print(\"avg k on\", '%.2E' % Decimal(np.average(k_on_list)),\" +- \", '%.2E' % Decimal(k_on_std), \" M^-1 s^-1\")"
   ]
  }
 ],
 "metadata": {
  "kernelspec": {
   "display_name": "Python 3",
   "language": "python",
   "name": "python3"
  },
  "language_info": {
   "codemirror_mode": {
    "name": "ipython",
    "version": 3
   },
   "file_extension": ".py",
   "mimetype": "text/x-python",
   "name": "python",
   "nbconvert_exporter": "python",
   "pygments_lexer": "ipython3",
   "version": "3.8.3"
  }
 },
 "nbformat": 4,
 "nbformat_minor": 2
}
